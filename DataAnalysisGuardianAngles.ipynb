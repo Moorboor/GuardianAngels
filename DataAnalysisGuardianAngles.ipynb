{
  "cells": [
    {
      "cell_type": "markdown",
      "metadata": {
        "id": "view-in-github",
        "colab_type": "text"
      },
      "source": [
        "<a href=\"https://colab.research.google.com/github/Moorboor/Guardian_Angles/blob/main/DataAnalysisGuardianAngles.ipynb\" target=\"_parent\"><img src=\"https://colab.research.google.com/assets/colab-badge.svg\" alt=\"Open In Colab\"/></a>"
      ]
    },
    {
      "cell_type": "markdown",
      "metadata": {
        "id": "egON_umI0Gr_"
      },
      "source": [
        "# Data analysis: Guardian Angles"
      ]
    },
    {
      "cell_type": "markdown",
      "metadata": {
        "id": "GWBXzhSCNXJU"
      },
      "source": [
        "\n",
        "\n",
        "---\n",
        "\n"
      ]
    },
    {
      "cell_type": "code",
      "execution_count": null,
      "metadata": {
        "colab": {
          "base_uri": "https://localhost:8080/",
          "height": 305
        },
        "id": "P5YR4g4ZWkl9",
        "outputId": "a817a732-a7d0-4bcb-d9d2-721a47100d0d"
      },
      "outputs": [
        {
          "output_type": "display_data",
          "data": {
            "text/html": [
              "<iframe src=\"https://drive.google.com/file/d/1B7tr455q_nTPTClWozHvWbQNUg2NA1H0/preview\" width=\"800\" height=\"280\" allow=\"autoplay\"></iframe>"
            ],
            "text/plain": [
              "<IPython.core.display.HTML object>"
            ]
          },
          "metadata": {}
        }
      ],
      "source": [
        "%%html\n",
        "<iframe src=\"https://drive.google.com/file/d/1B7tr455q_nTPTClWozHvWbQNUg2NA1H0/preview\" width=\"800\" height=\"280\" allow=\"autoplay\"></iframe>"
      ]
    },
    {
      "cell_type": "code",
      "execution_count": null,
      "metadata": {
        "colab": {
          "base_uri": "https://localhost:8080/",
          "height": 205
        },
        "id": "t3DnxHAxYB64",
        "outputId": "a070bc87-f62c-467e-8e0e-ed592bd826e5"
      },
      "outputs": [
        {
          "output_type": "display_data",
          "data": {
            "text/html": [
              "<iframe src=\"https://drive.google.com/file/d/1UYT-836HdB-Sd-ILPrNHh9NKF9uA7T21/preview\" width=\"260\" height=\"180\" allow=\"autoplay\"></iframe>"
            ],
            "text/plain": [
              "<IPython.core.display.HTML object>"
            ]
          },
          "metadata": {}
        }
      ],
      "source": [
        "%%html\n",
        "<iframe src=\"https://drive.google.com/file/d/1UYT-836HdB-Sd-ILPrNHh9NKF9uA7T21/preview\" width=\"260\" height=\"180\" allow=\"autoplay\"></iframe>"
      ]
    },
    {
      "cell_type": "markdown",
      "metadata": {
        "id": "2xXow7-C1ujR"
      },
      "source": [
        "### Imports"
      ]
    },
    {
      "cell_type": "markdown",
      "metadata": {
        "id": "JG3pbE9T2MKY"
      },
      "source": [
        "This notebook will access the authors google drive folder and loads directly a csv file of the [Post-Questionnaire](https://docs.google.com/forms/d/12StDXzaLpfierKAv4SSunVCYpcpRW2T8sIynlDwiBu8/edit?usp=sharing)"
      ]
    },
    {
      "cell_type": "code",
      "execution_count": null,
      "metadata": {
        "id": "voEQ_DZj0Fsb"
      },
      "outputs": [],
      "source": [
        "import os\n",
        "from google.colab import drive"
      ]
    },
    {
      "cell_type": "markdown",
      "metadata": {
        "id": "tEF8_eIQ2NE9"
      },
      "source": [
        "## Introduction"
      ]
    },
    {
      "cell_type": "markdown",
      "metadata": {
        "id": "UohqkujA2TH8"
      },
      "source": [
        "In this notebook we will analyze the results of our post-experiment questionnaire and of the measurements that we took while the participant ran the experiment **using the programming language R.** "
      ]
    },
    {
      "cell_type": "markdown",
      "metadata": {
        "id": "ewZ6H-ar2UVj"
      },
      "source": [
        "### Defining terms/ Additional information"
      ]
    },
    {
      "cell_type": "markdown",
      "metadata": {
        "id": "iYuq54g52k7g"
      },
      "source": [
        "To use R in Colab we have to load the extension. "
      ]
    },
    {
      "cell_type": "code",
      "execution_count": null,
      "metadata": {
        "id": "tmOnvWTK6Nml"
      },
      "outputs": [],
      "source": [
        "%load_ext rpy2.ipython"
      ]
    },
    {
      "cell_type": "markdown",
      "metadata": {
        "id": "L_cSD-Ot7IB7"
      },
      "source": [
        "Now when we write '%%R' on top of a cell it will function as an R magic cell. The cell will work like a normal R Studio cell. \n",
        "\n",
        "Any other cell will stay a regular python cell. "
      ]
    },
    {
      "cell_type": "markdown",
      "metadata": {
        "id": "okXbS1AR8FrP"
      },
      "source": [
        "See below that we can load the tidyverse in that fashion."
      ]
    },
    {
      "cell_type": "code",
      "execution_count": null,
      "metadata": {
        "id": "-MiFhwNc78KH",
        "colab": {
          "base_uri": "https://localhost:8080/"
        },
        "outputId": "fb5f0b5c-b1c0-4858-dca1-de406ad931b3"
      },
      "outputs": [
        {
          "output_type": "stream",
          "name": "stderr",
          "text": [
            "R[write to console]: ── Attaching packages ─────────────────────────────────────── tidyverse 1.3.1 ──\n",
            "\n",
            "R[write to console]: ✔ ggplot2 3.3.5     ✔ purrr   0.3.4\n",
            "✔ tibble  3.1.6     ✔ dplyr   1.0.8\n",
            "✔ tidyr   1.2.0     ✔ stringr 1.4.0\n",
            "✔ readr   2.1.2     ✔ forcats 0.5.1\n",
            "\n",
            "R[write to console]: ── Conflicts ────────────────────────────────────────── tidyverse_conflicts() ──\n",
            "✖ dplyr::filter() masks stats::filter()\n",
            "✖ dplyr::lag()    masks stats::lag()\n",
            "\n"
          ]
        }
      ],
      "source": [
        "%%R\n",
        "library(tidyverse)"
      ]
    },
    {
      "cell_type": "markdown",
      "metadata": {
        "id": "829tck8x2eHS"
      },
      "source": [
        "## Loading Data"
      ]
    },
    {
      "cell_type": "markdown",
      "metadata": {
        "id": "JINT4OMr2jyG"
      },
      "source": [
        "Loading the answers of the [Post-Questionnaire](https://docs.google.com/forms/d/12StDXzaLpfierKAv4SSunVCYpcpRW2T8sIynlDwiBu8/edit?usp=sharing) from google drive. The file is in format of a csv file because it was simplier to read it when using R."
      ]
    },
    {
      "cell_type": "code",
      "execution_count": null,
      "metadata": {
        "colab": {
          "base_uri": "https://localhost:8080/"
        },
        "id": "_kgLeMFo2jRd",
        "outputId": "a6aec150-6618-4825-c6bf-c434ab7b25be"
      },
      "outputs": [
        {
          "output_type": "stream",
          "name": "stdout",
          "text": [
            "Mounted at /content/drive\n"
          ]
        }
      ],
      "source": [
        "drive.mount(mountpoint = '/content/drive')"
      ]
    },
    {
      "cell_type": "code",
      "execution_count": null,
      "metadata": {
        "colab": {
          "base_uri": "https://localhost:8080/",
          "height": 35
        },
        "id": "HHgjSe3t-rE8",
        "outputId": "8ebe2681-f2d1-402b-ad69-fcbb83c1137b"
      },
      "outputs": [
        {
          "output_type": "execute_result",
          "data": {
            "application/vnd.google.colaboratory.intrinsic+json": {
              "type": "string"
            },
            "text/plain": [
              "'/content/drive/MyDrive/Uni/Guardian_Angles_2021'"
            ]
          },
          "metadata": {},
          "execution_count": 7
        }
      ],
      "source": [
        "os.chdir('/content/drive/MyDrive/Uni/Guardian_Angles_2021')\n",
        "os.getcwd()"
      ]
    },
    {
      "cell_type": "code",
      "execution_count": null,
      "metadata": {
        "colab": {
          "base_uri": "https://localhost:8080/"
        },
        "id": "zMpY_tb-BEgC",
        "outputId": "16b76ad4-d579-4c68-c8e2-5b30e91bccdb"
      },
      "outputs": [
        {
          "output_type": "stream",
          "name": "stdout",
          "text": [
            "Rows: 21\n",
            "Columns: 15\n",
            "$ X                                                                                                                                  <chr> …\n",
            "$ But.first..Please.enter.your.participant.number.                                                                                   <int> …\n",
            "$ How.stressful.was.the.situation.for.you.                                                                                           <int> …\n",
            "$ X.I.trusted.the.drone.in.the.simulation..                                                                                          <int> …\n",
            "$ X.I.felt.comforted.by.the.drone.in.the.simulation..                                                                                <int> …\n",
            "$ X.The.drone.increased.my.chances.of.survival.in.the.simulation..                                                                   <int> …\n",
            "$ X.I.believe.that.I.could.feel.trust.towards.a.human.in.a.distressing.situation..                                                   <int> …\n",
            "$ X.I.believe.that.a.human.could.comfort.me.in.a.dangerous.or.distressing.situation..                                                <int> …\n",
            "$ X.I.believe.that.being.aided.by.a.human.could.substantially.increase.my.chances.of.survival.in.a.dangerous.situation..             <int> …\n",
            "$ X.I.would.prefer.a.human.over.a.self.directed.robot.to.assist.me.in.a.dangerous.or.distressing.situation..                         <int> …\n",
            "$ X.I.would.prefer.a.human.over.robot.with.a.communication.channel.to.a.human.to.assist.me.in.a.dangerous.or.distressing.situation.. <int> …\n",
            "$ Would.you.like.to.add.anything...optional.                                                                                         <chr> …\n",
            "$ Please.enter.your.participant.number.                                                                                              <int> …\n",
            "$ Age                                                                                                                                <int> …\n",
            "$ Gender                                                                                                                             <chr> …\n"
          ]
        }
      ],
      "source": [
        "%%R\n",
        "data <- read.csv('HRI_Questionnaire_(Antworten).csv')\n",
        "data <- data[!(is.na(data$Please.enter.your.participant.number.)),]\n",
        "\n",
        "glimpse(data)"
      ]
    },
    {
      "cell_type": "markdown",
      "metadata": {
        "id": "tMIx74x8Z7Ik"
      },
      "source": [
        "We need to read in the ids to monologue mapping."
      ]
    },
    {
      "cell_type": "code",
      "execution_count": null,
      "metadata": {
        "colab": {
          "base_uri": "https://localhost:8080/"
        },
        "id": "whDx0P-WaBTz",
        "outputId": "82a1ae37-da0c-4df0-80b2-a32345d529af"
      },
      "outputs": [
        {
          "output_type": "stream",
          "name": "stdout",
          "text": [
            "Rows: 21 Columns: 4\n",
            "── Column specification ────────────────────────────────────────────────────────\n",
            "Delimiter: \",\"\n",
            "chr (3): X2, X3, X4\n",
            "dbl (1): X1\n",
            "\n",
            "ℹ Use `spec()` to retrieve the full column specification for this data.\n",
            "ℹ Specify the column types or set `show_col_types = FALSE` to quiet this message.\n",
            "\n",
            "\n",
            "Table: Subject trail data\n",
            "\n",
            "| subject_id|      time| drone_turns|drone_monologue |\n",
            "|----------:|---------:|-----------:|:---------------|\n",
            "|          1| 271.72780|          12|DM1             |\n",
            "|          2| 126.08900|           8|DM2             |\n",
            "|          3| 161.04000|           0|DM3             |\n",
            "|          4|  90.32468|           3|DM1             |\n",
            "|          5| 103.91950|           4|DM3             |\n",
            "|          6| 120.98840|           2|DM1             |\n",
            "|          7| 199.60040|           7|DM3             |\n",
            "|          8|  89.54372|           9|DM3             |\n",
            "|          9| 154.59300|           4|DM2             |\n",
            "|         10| 141.54860|           9|DM2             |\n",
            "|         11| 113.02370|           4|DM1             |\n",
            "|         12|  71.63773|           2|DM3             |\n",
            "|         13|  91.62141|           5|DM1             |\n",
            "|         14| 156.28720|           7|DM1             |\n",
            "|         15| 109.58370|           4|DM2             |\n",
            "|         16| 203.45550|           4|DM3             |\n",
            "|         17|  87.10968|           5|DM1             |\n",
            "|         18|  96.62486|           5|DM2             |\n",
            "|         19| 171.34470|           7|DM2             |\n",
            "|         20|  98.42251|           5|DM3             |\n",
            "|         21| 168.42080|          18|DM2             |\n"
          ]
        }
      ],
      "source": [
        "%%R\n",
        "ids <- read_delim('Data.txt', delim = ',', col_names=FALSE) %>%\n",
        "  separate(col = X2,\n",
        "           into = str_c('val',1:2),\n",
        "           sep = ':',\n",
        "           convert = T) %>%\n",
        "  select(- val1) %>%\n",
        "  rename(subject_id = X1, \n",
        "         time = val2, \n",
        "         drone_turns = X3, \n",
        "         drone_monologue = X4)\n",
        "\n",
        "ids$drone_turns <- as.integer(ids$drone_turns)\n",
        "\n",
        "\n",
        "knitr::kable(\n",
        "    ids,\n",
        "    caption = 'Subject trail data',\n",
        "    booktabs = TRUE\n",
        ")"
      ]
    },
    {
      "cell_type": "markdown",
      "metadata": {
        "id": "PhR2Av1idJE4"
      },
      "source": [
        "### Data wrangling"
      ]
    },
    {
      "cell_type": "markdown",
      "metadata": {
        "id": "8sY6KXvowHFV"
      },
      "source": [
        "As can be seen above is the dataframe raw but very close to the definition of being a tidy dataset. What is missing is the following:"
      ]
    },
    {
      "cell_type": "markdown",
      "metadata": {
        "id": "KRht3lAyuhhl"
      },
      "source": [
        "We need to define some meta variables which describes the participants received stress in the experiment. Through a \"Stress\" variable which we should gain through some questions of the questionnaire we could view them in relation to the according 3 groups. The different drone monologues D1, D2, D3. "
      ]
    },
    {
      "cell_type": "code",
      "execution_count": null,
      "metadata": {
        "colab": {
          "base_uri": "https://localhost:8080/"
        },
        "id": "YcUWUUFFWaRh",
        "outputId": "cdbfe964-0ef8-4594-86b5-4dba6b695383"
      },
      "outputs": [
        {
          "output_type": "stream",
          "name": "stdout",
          "text": [
            "Grande Mean of Question 2: How stressful was it for you? \n",
            "\n",
            "Mean: 2.5"
          ]
        }
      ],
      "source": [
        "%%R\n",
        "q1 <- data$How.stressful.was.the.situation.for.you.[!is.na(data$How.stressful.was.the.situation.for.you.)] \n",
        "\n",
        "mean_q1 <- mean(q1)\n",
        "cat(paste('Grande Mean of Question 2: How stressful was it for you? \\n\\nMean:', round(mean_q1,1)))"
      ]
    },
    {
      "cell_type": "markdown",
      "source": [
        "Joining together the two datasets"
      ],
      "metadata": {
        "id": "BsnWnR7WBX9B"
      }
    },
    {
      "cell_type": "code",
      "execution_count": null,
      "metadata": {
        "id": "uf8HYgjZKeoQ"
      },
      "outputs": [],
      "source": [
        "%%R\n",
        "data_prep <- data %>%\n",
        "  rename(subject_id = Please.enter.your.participant.number.) %>%\n",
        "  select(3:15)\n",
        "\n",
        "data_prep$subject_id[as.integer(data_prep$subject_id)]\n",
        "\n",
        "data_full <- full_join(data_prep, ids, by = 'subject_id')"
      ]
    },
    {
      "cell_type": "markdown",
      "source": [
        "We decided to exclude participant no. 7, no. 3 due to walking off the intended map by technical issues."
      ],
      "metadata": {
        "id": "5l-85361A8lc"
      }
    },
    {
      "cell_type": "code",
      "source": [
        "%%R\n",
        "data_full <- data_full %>%\n",
        "  filter(subject_id != 7) %>%\n",
        "  filter(subject_id != 3)\n",
        "\n",
        "glimpse(data_full)"
      ],
      "metadata": {
        "colab": {
          "base_uri": "https://localhost:8080/"
        },
        "id": "tMkR8612A7gP",
        "outputId": "d37dcdf4-0842-479f-b9f8-16026f84286d"
      },
      "execution_count": null,
      "outputs": [
        {
          "output_type": "stream",
          "name": "stdout",
          "text": [
            "Rows: 19\n",
            "Columns: 16\n",
            "$ How.stressful.was.the.situation.for.you.                                                                                           <int> …\n",
            "$ X.I.trusted.the.drone.in.the.simulation..                                                                                          <int> …\n",
            "$ X.I.felt.comforted.by.the.drone.in.the.simulation..                                                                                <int> …\n",
            "$ X.The.drone.increased.my.chances.of.survival.in.the.simulation..                                                                   <int> …\n",
            "$ X.I.believe.that.I.could.feel.trust.towards.a.human.in.a.distressing.situation..                                                   <int> …\n",
            "$ X.I.believe.that.a.human.could.comfort.me.in.a.dangerous.or.distressing.situation..                                                <int> …\n",
            "$ X.I.believe.that.being.aided.by.a.human.could.substantially.increase.my.chances.of.survival.in.a.dangerous.situation..             <int> …\n",
            "$ X.I.would.prefer.a.human.over.a.self.directed.robot.to.assist.me.in.a.dangerous.or.distressing.situation..                         <int> …\n",
            "$ X.I.would.prefer.a.human.over.robot.with.a.communication.channel.to.a.human.to.assist.me.in.a.dangerous.or.distressing.situation.. <int> …\n",
            "$ Would.you.like.to.add.anything...optional.                                                                                         <chr> …\n",
            "$ subject_id                                                                                                                         <dbl> …\n",
            "$ Age                                                                                                                                <int> …\n",
            "$ Gender                                                                                                                             <chr> …\n",
            "$ time                                                                                                                               <dbl> …\n",
            "$ drone_turns                                                                                                                        <int> …\n",
            "$ drone_monologue                                                                                                                    <chr> …\n"
          ]
        }
      ]
    },
    {
      "cell_type": "markdown",
      "metadata": {
        "id": "FSseVh9FdQTY"
      },
      "source": [
        "### Graphical analysis"
      ]
    },
    {
      "cell_type": "markdown",
      "metadata": {
        "id": "ouJ9s_3_uVYk"
      },
      "source": [
        "General analysis over the distribution of age and gender of our participants."
      ]
    },
    {
      "cell_type": "code",
      "execution_count": null,
      "metadata": {
        "colab": {
          "base_uri": "https://localhost:8080/",
          "height": 497
        },
        "id": "Zc7Hut6bH111",
        "outputId": "9fa17ef2-0788-43ac-874a-e66d8651e58b"
      },
      "outputs": [
        {
          "output_type": "display_data",
          "data": {
            "image/png": "[encoded data removed]"
          },
          "metadata": {}
        }
      ],
      "source": [
        "%%R\n",
        "data_full %>%\n",
        "  dplyr::count(Gender) %>%\n",
        "  ggplot(aes(x = Gender, y = n))+\n",
        "    geom_col(aes(fill = Gender)) + \n",
        "    theme_minimal() +\n",
        "    labs(title = 'Gender of participants',\n",
        "         x = '', \n",
        "         y = 'count') +\n",
        "    theme(plot.title = element_text(size = 18),\n",
        "          axis.title = element_text(size = 13))"
      ]
    },
    {
      "cell_type": "code",
      "execution_count": null,
      "metadata": {
        "colab": {
          "base_uri": "https://localhost:8080/",
          "height": 497
        },
        "id": "kPg81VtZYi98",
        "outputId": "f42f0b6b-f386-4efa-ebfa-80c475925bb4"
      },
      "outputs": [
        {
          "output_type": "display_data",
          "data": {
            "image/png": "[encoded data removed]"
          },
          "metadata": {}
        }
      ],
      "source": [
        "%%R\n",
        "data_full %>%\n",
        "  ggplot(aes(x=Age, fill=Gender))+\n",
        "  geom_bar() +\n",
        "  theme_bw() +\n",
        "  labs(title = 'Distribution of gender and age',\n",
        "       y = 'count') + \n",
        "  theme(plot.title = element_text(size = 18),\n",
        "        axis.title = element_text(size = 13))"
      ]
    },
    {
      "cell_type": "code",
      "execution_count": null,
      "metadata": {
        "colab": {
          "base_uri": "https://localhost:8080/",
          "height": 497
        },
        "id": "nDXgsJXj5NGW",
        "outputId": "82a8e88e-1b14-4f5a-9db0-27869a5c351a"
      },
      "outputs": [
        {
          "output_type": "display_data",
          "data": {
            "image/png": "[encoded data removed]"
          },
          "metadata": {}
        }
      ],
      "source": [
        "%%R\n",
        "data_full %>% \n",
        "  count(How.stressful.was.the.situation.for.you.) %>%\n",
        "\n",
        "  ggplot(aes(x = How.stressful.was.the.situation.for.you., y = n)) + \n",
        "  geom_col() + \n",
        "  theme_bw() +\n",
        "  labs(title = 'Quesiton 1',\n",
        "       subtitle = 'How stressful was the situation for you?',\n",
        "       x = 'Stress level, the higher the more stressful',\n",
        "       y = 'count') + \n",
        "  theme(plot.title = element_text(size = 18),\n",
        "        axis.title = element_text(size = 13))"
      ]
    },
    {
      "cell_type": "markdown",
      "metadata": {
        "id": "A0A63eWvyrwl"
      },
      "source": [
        "Now in relation to the drone monologues"
      ]
    },
    {
      "cell_type": "code",
      "execution_count": null,
      "metadata": {
        "colab": {
          "base_uri": "https://localhost:8080/",
          "height": 497
        },
        "id": "hT7PP7fPyvN-",
        "outputId": "1e51cea9-48fb-4af9-9696-f0ccfd3cdb15"
      },
      "outputs": [
        {
          "output_type": "display_data",
          "data": {
            "image/png": "[encoded data removed]"
          },
          "metadata": {}
        }
      ],
      "source": [
        "%%R\n",
        "data_full %>%\n",
        "  group_by(drone_monologue) %>%\n",
        "  summarise(drone_turns = mean(drone_turns),\n",
        "            passed_time = mean(time), \n",
        "            Q1 = mean(How.stressful.was.the.situation.for.you.),\n",
        "            Age = mean(Age)\n",
        "            ) %>%\n",
        "\n",
        "  ggplot() +\n",
        "    geom_col(aes(x = drone_monologue, y = Q1, fill = drone_monologue)) +\n",
        "    labs(title = 'Groups received stresses',\n",
        "         subtitle = '',\n",
        "         x = '',\n",
        "         y = 'Stress level') +\n",
        "    theme(axis.title = element_text(size = 15),\n",
        "          plot.title = element_text(size = 20),\n",
        "          axis.text.x = element_text(size = 20)) +\n",
        "    theme_minimal()"
      ]
    },
    {
      "cell_type": "code",
      "execution_count": null,
      "metadata": {
        "colab": {
          "base_uri": "https://localhost:8080/",
          "height": 497
        },
        "id": "ASTN1EdpKT6K",
        "outputId": "72b17d57-a487-4a5c-9ac2-a48d11ecdbf4"
      },
      "outputs": [
        {
          "output_type": "display_data",
          "data": {
            "image/png": "[encoded data removed]"
          },
          "metadata": {}
        }
      ],
      "source": [
        "%%R\n",
        "data_full %>%\n",
        "  ggplot(aes(x = time, fill = drone_monologue)) +\n",
        "  geom_histogram(bins = 10) +\n",
        "  theme_minimal() + \n",
        "  labs(title = 'Groups spend time',\n",
        "       subtitle = '',\n",
        "       x = 'time(s)') +\n",
        "  theme(plot.title = element_text(size = 18),\n",
        "        axis.title = element_text(size = 13))"
      ]
    },
    {
      "cell_type": "code",
      "execution_count": null,
      "metadata": {
        "colab": {
          "base_uri": "https://localhost:8080/",
          "height": 497
        },
        "id": "mMshyf-TLUkr",
        "outputId": "e8305e28-bf67-4aa4-bfaa-27b1297fe554"
      },
      "outputs": [
        {
          "output_type": "display_data",
          "data": {
            "image/png": "[encoded data removed]"
          },
          "metadata": {}
        }
      ],
      "source": [
        "%%R\n",
        "data_full %>%\n",
        "  ggplot(aes(x = drone_monologue, y = time)) +\n",
        "  geom_boxplot() +\n",
        "  labs(title = 'Groups spent time',\n",
        "       subtitle = '',\n",
        "       x = 'drone monologue',\n",
        "       y = 'time(s)') +\n",
        "  theme(plot.title = element_text(size = 20),\n",
        "        axis.text.x = element_text(size = 10),\n",
        "        axis.title = element_text(size = 15))"
      ]
    },
    {
      "cell_type": "markdown",
      "source": [
        "## Analysis with one-way ANOVA"
      ],
      "metadata": {
        "id": "M-rBh_KN6sjY"
      }
    },
    {
      "cell_type": "markdown",
      "source": [
        "###Question 2: How stressful was the situation for you?\n",
        "\n"
      ],
      "metadata": {
        "id": "ViRB1AHa6gie"
      }
    },
    {
      "cell_type": "code",
      "source": [
        "%%R\n",
        "data_full_anova_Q1 <- data_full %>%\n",
        "  select(How.stressful.was.the.situation.for.you., drone_monologue) %>%\n",
        "  rename(Q1 = How.stressful.was.the.situation.for.you.) %>% \n",
        "  as_tibble()\n",
        "\n",
        "aov(formula = Q1 ~ drone_monologue, data_full_anova_Q1) %>% summary()"
      ],
      "metadata": {
        "id": "KBCzZTtq36K-",
        "colab": {
          "base_uri": "https://localhost:8080/"
        },
        "outputId": "65a38d23-6448-46db-8fcd-5463f8889bfb"
      },
      "execution_count": null,
      "outputs": [
        {
          "output_type": "stream",
          "name": "stdout",
          "text": [
            "                Df Sum Sq Mean Sq F value Pr(>F)\n",
            "drone_monologue  2  1.489  0.7444   0.906  0.424\n",
            "Residuals       16 13.143  0.8214               \n"
          ]
        }
      ]
    },
    {
      "cell_type": "markdown",
      "source": [
        "Based on a one-way ANOVA, we find evidence for the assumption of equal means across all groups (F(2, 17) ≈ 0.906, p ≈ 0.424)."
      ],
      "metadata": {
        "id": "W2zfHRUoDoes"
      }
    },
    {
      "cell_type": "markdown",
      "source": [
        "###Question 4: The drone increased my chances of survival in the simulation?"
      ],
      "metadata": {
        "id": "Pw-AbAZg6w_h"
      }
    },
    {
      "cell_type": "code",
      "source": [
        "%%R\n",
        "data_full_anova_Q4 <- data_full %>%\n",
        "  select(X.The.drone.increased.my.chances.of.survival.in.the.simulation.., drone_monologue) %>%\n",
        "  rename(Q4 = X.The.drone.increased.my.chances.of.survival.in.the.simulation..) %>% \n",
        "  as_tibble()\n",
        "\n",
        "aov(formula = Q4 ~ drone_monologue, data_full_anova_Q4) %>% summary()"
      ],
      "metadata": {
        "id": "axO6YG7_5TWj",
        "colab": {
          "base_uri": "https://localhost:8080/"
        },
        "outputId": "c20fd533-2d0d-473b-8520-a2d140e04106"
      },
      "execution_count": null,
      "outputs": [
        {
          "output_type": "stream",
          "name": "stdout",
          "text": [
            "                Df Sum Sq Mean Sq F value Pr(>F)\n",
            "drone_monologue  2  1.462  0.7308   0.544  0.591\n",
            "Residuals       16 21.486  1.3429               \n"
          ]
        }
      ]
    },
    {
      "cell_type": "markdown",
      "source": [
        "Based on a one-way ANOVA, we find evidence for the assumption of equal means across all groups (F(2, 17) ≈ 0.544, p ≈ 0.591)."
      ],
      "metadata": {
        "id": "jm7efQ6_Cty9"
      }
    },
    {
      "cell_type": "markdown",
      "source": [
        "###Question 2: I trusted the drone in the simulation?"
      ],
      "metadata": {
        "id": "dm-_PjEE69OE"
      }
    },
    {
      "cell_type": "code",
      "source": [
        "%%R\n",
        "data_full_anova_Q2 <- data_full %>%\n",
        "  select(X.I.trusted.the.drone.in.the.simulation.., drone_monologue) %>%\n",
        "  rename(Q2 = X.I.trusted.the.drone.in.the.simulation..) %>% \n",
        "  as_tibble()\n",
        "\n",
        "aov(formula = Q2 ~ drone_monologue, data_full_anova_Q2) %>% summary()"
      ],
      "metadata": {
        "id": "sIyZkG867RV0",
        "colab": {
          "base_uri": "https://localhost:8080/"
        },
        "outputId": "49362f1b-f141-43c3-f86a-45340ef1dd53"
      },
      "execution_count": null,
      "outputs": [
        {
          "output_type": "stream",
          "name": "stdout",
          "text": [
            "                Df Sum Sq Mean Sq F value Pr(>F)\n",
            "drone_monologue  2  0.198  0.0992   0.081  0.922\n",
            "Residuals       16 19.486  1.2179               \n"
          ]
        }
      ]
    },
    {
      "cell_type": "markdown",
      "source": [
        "Based on a one-way ANOVA, we find evidence for the assumption of equal means across all groups (F(2, 17) ≈ 0.081, p ≈ 0.922)."
      ],
      "metadata": {
        "id": "oJZ2xmyM8Fig"
      }
    },
    {
      "cell_type": "markdown",
      "source": [
        "### Question 13: I would prefer a human over robot with a communication channel to a human to assist me in a dangerous or distressing situation?"
      ],
      "metadata": {
        "id": "x66fxTTCNJFI"
      }
    },
    {
      "cell_type": "code",
      "source": [
        "%%R\n",
        "data_full_anova_Q13 <- data_full %>%\n",
        "  select(X.I.would.prefer.a.human.over.robot.with.a.communication.channel.to.a.human.to.assist.me.in.a.dangerous.or.distressing.situation.., drone_monologue) %>%\n",
        "  rename(Q13 = X.I.would.prefer.a.human.over.robot.with.a.communication.channel.to.a.human.to.assist.me.in.a.dangerous.or.distressing.situation..) %>% \n",
        "  as_tibble()\n",
        "\n",
        "aov(formula = Q13 ~ drone_monologue, data_full_anova_Q13) %>% summary()"
      ],
      "metadata": {
        "id": "ioGmZTKcNIIb",
        "colab": {
          "base_uri": "https://localhost:8080/"
        },
        "outputId": "3428d870-4927-4ad4-a416-c674f54357a5"
      },
      "execution_count": null,
      "outputs": [
        {
          "output_type": "stream",
          "name": "stdout",
          "text": [
            "                Df Sum Sq Mean Sq F value Pr(>F)\n",
            "drone_monologue  2  1.913  0.9564   0.703   0.51\n",
            "Residuals       16 21.771  1.3607               \n"
          ]
        }
      ]
    },
    {
      "cell_type": "markdown",
      "source": [
        "Based on a one-way ANOVA, we find evidence for the assumption of equal means across all groups (F(2,17) ≈ 0.703, p ≈ 0.51). "
      ],
      "metadata": {
        "id": "o3Y_TdcfNkWM"
      }
    },
    {
      "cell_type": "markdown",
      "source": [
        "###Question 14: I would prefer a human over robot with a communication channel to a human to assist me in a dangerous or distressing situation?"
      ],
      "metadata": {
        "id": "EWtRyp1SC5Nb"
      }
    },
    {
      "cell_type": "code",
      "source": [
        "%%R\n",
        "data_full_anova_Q14 <- data_full %>%\n",
        "  select(X.I.would.prefer.a.human.over.robot.with.a.communication.channel.to.a.human.to.assist.me.in.a.dangerous.or.distressing.situation.., drone_monologue) %>%\n",
        "  rename(Q14 = X.I.would.prefer.a.human.over.robot.with.a.communication.channel.to.a.human.to.assist.me.in.a.dangerous.or.distressing.situation..) %>% \n",
        "  as_tibble()\n",
        "\n",
        "aov(formula = Q14 ~ drone_monologue, data_full_anova_Q14) %>% summary()"
      ],
      "metadata": {
        "id": "8oI5yZnF-ehD",
        "colab": {
          "base_uri": "https://localhost:8080/"
        },
        "outputId": "698aa7cc-9acf-4908-a175-502a35d2bac0"
      },
      "execution_count": null,
      "outputs": [
        {
          "output_type": "stream",
          "name": "stdout",
          "text": [
            "                Df Sum Sq Mean Sq F value Pr(>F)\n",
            "drone_monologue  2  1.913  0.9564   0.703   0.51\n",
            "Residuals       16 21.771  1.3607               \n"
          ]
        }
      ]
    },
    {
      "cell_type": "markdown",
      "source": [
        "Based on a one-way ANOVA, we find evidence for the assumption of equal means across all groups (F(2, 17) ≈ 0.703, p ≈ 0.51)."
      ],
      "metadata": {
        "id": "L8ACb4-eCifC"
      }
    },
    {
      "cell_type": "markdown",
      "source": [
        "### Time measurement "
      ],
      "metadata": {
        "id": "ENAQ_w6t9cOa"
      }
    },
    {
      "cell_type": "code",
      "source": [
        "%%R\n",
        "data_full_time <- data_full %>%\n",
        "  select(time, drone_monologue) %>%\n",
        "  as_tibble()\n",
        "aov(formula = time ~ drone_monologue, data_full_time) %>% summary()"
      ],
      "metadata": {
        "colab": {
          "base_uri": "https://localhost:8080/"
        },
        "id": "FV4JDOQ89kmE",
        "outputId": "20e11b88-8d1a-468d-be8f-e0ae7c4adbee"
      },
      "execution_count": null,
      "outputs": [
        {
          "output_type": "stream",
          "name": "stdout",
          "text": [
            "                Df Sum Sq Mean Sq F value Pr(>F)\n",
            "drone_monologue  2   1925   962.6   0.369  0.697\n",
            "Residuals       16  41694  2605.8               \n"
          ]
        }
      ]
    },
    {
      "cell_type": "markdown",
      "source": [
        "Based on a one-way ANOVA, we find evidence for the assumption of equal means across all groups (F(2, 17) ≈ 0.369, p ≈ 0.697)."
      ],
      "metadata": {
        "id": "CI8_cZLl-iC3"
      }
    },
    {
      "cell_type": "markdown",
      "source": [
        "### Drone Turns"
      ],
      "metadata": {
        "id": "46VnAgB5imyX"
      }
    },
    {
      "cell_type": "code",
      "source": [
        "%%R\n",
        "data_full_turns <- data_full %>%\n",
        "  select(drone_turns, drone_monologue) %>%\n",
        "  as_tibble()\n",
        "aov(formula = drone_turns ~ drone_monologue, data_full_turns) %>% summary()"
      ],
      "metadata": {
        "colab": {
          "base_uri": "https://localhost:8080/"
        },
        "id": "ecYFBdSOiiyp",
        "outputId": "2ae09de7-c485-4d52-ce39-8367defeae61"
      },
      "execution_count": null,
      "outputs": [
        {
          "output_type": "stream",
          "name": "stdout",
          "text": [
            "                Df Sum Sq Mean Sq F value Pr(>F)\n",
            "drone_monologue  2  33.15   16.58   1.127  0.348\n",
            "Residuals       16 235.37   14.71               \n"
          ]
        }
      ]
    },
    {
      "cell_type": "markdown",
      "source": [
        "Based on a one-way ANOVA, we find evidence for the assumption of equal means across all groups (F(2, 17) ≈ 1.127, p ≈ 0.348)."
      ],
      "metadata": {
        "id": "v9BM9PPMi_H8"
      }
    },
    {
      "cell_type": "markdown",
      "metadata": {
        "id": "xpRCkIzRNUc7"
      },
      "source": [
        "\n",
        "\n",
        "---\n",
        "\n"
      ]
    },
    {
      "cell_type": "markdown",
      "metadata": {
        "id": "hwepgrJr2u6Q"
      },
      "source": [
        "## About this Notebook"
      ]
    },
    {
      "cell_type": "markdown",
      "metadata": {
        "id": "NUOPKb4y2woe"
      },
      "source": [
        "This notebook was writen by Maik van Do."
      ]
    }
  ],
  "metadata": {
    "colab": {
      "collapsed_sections": [],
      "name": "DataAnalysisGuardianAngles.ipynb",
      "provenance": [],
      "include_colab_link": true
    },
    "kernelspec": {
      "display_name": "Python 3",
      "name": "python3"
    },
    "language_info": {
      "name": "python"
    }
  },
  "nbformat": 4,
  "nbformat_minor": 0
}